{
  "nbformat": 4,
  "nbformat_minor": 0,
  "metadata": {
    "colab": {
      "provenance": []
    },
    "kernelspec": {
      "name": "python3",
      "display_name": "Python 3"
    },
    "language_info": {
      "name": "python"
    }
  },
  "cells": [
    {
      "cell_type": "markdown",
      "source": [],
      "metadata": {
        "id": "jGCgX11qjmi0"
      }
    },
    {
      "cell_type": "markdown",
      "source": [
        "1.What are data structures, and why are they important?\n",
        "\n",
        "->Data structures are ways of organizing and storing data in a computer so that it can be accessed and modified efficiently. Think of them like containers that hold data in specific formats depending on what you need to do with that data.\n",
        "\n",
        "Common Types of Data Structures:\n",
        "Arrays – Store elements in a fixed-size, indexed list.\n",
        "\n",
        "Linked Lists – A series of connected nodes, where each node contains data and a reference to the next."
      ],
      "metadata": {
        "id": "VRR4NYBNjoQR"
      }
    },
    {
      "cell_type": "markdown",
      "source": [
        "2.Explain the difference between mutable and immutable data types with examples?\n",
        "\n",
        "-> The difference between mutable and immutable data types is all about whether or not you can change the object after it’s been created.\n",
        "\n"
      ],
      "metadata": {
        "id": "vMmW_IxQkji1"
      }
    },
    {
      "cell_type": "markdown",
      "source": [
        "3.What are the main differences between lists and tuples in Python?\n",
        "\n",
        "->, lists and tuples are both used to store collections of items, but they have some important differences.\n",
        "\n",
        "The main difference is that lists are mutable, meaning you can change them after they’re created. You can add, remove, or modify items in a list. For example, if you have a list like [1, 2, 3], you can change the first item to something else, or append a new item at the end.\n",
        "\n",
        "On the other hand, tuples are immutable. Once a tuple is created, you can’t change it. So if you have a tuple like (1, 2, 3), you can’t modify any of its elements or add new ones. If you try to change a tuple, Python will give you an error."
      ],
      "metadata": {
        "id": "_flPnw1zlC1v"
      }
    },
    {
      "cell_type": "markdown",
      "source": [
        "4.Describe how dictionaries store data.\n",
        "\n",
        "->Dictionaries in Python store data in key-value pairs."
      ],
      "metadata": {
        "id": "fdAC-kDlvqAV"
      }
    },
    {
      "cell_type": "markdown",
      "source": [
        "5.Why might you use a set instead of a list in Python.\n",
        "\n",
        "->A set is an unordered collection of unique elements. In contrast, a list is an ordered collection that can contain duplicate elements."
      ],
      "metadata": {
        "id": "KUBmmkksv5IT"
      }
    },
    {
      "cell_type": "markdown",
      "source": [
        "6.What is a string in Python, and how is it different from a list.\n",
        "\n",
        "->A string in Python is a sequence of characters used to represent text. It can contain letters, numbers, symbols, and spaces. Strings are written inside single quotes (' '), double quotes (\" \"), or triple quotes (''' ''' or \"\"\" \"\"\")"
      ],
      "metadata": {
        "id": "d9EHTOOMypNa"
      }
    },
    {
      "cell_type": "markdown",
      "source": [
        "7.How do tuples ensure data integrity in Python.\n",
        "\n",
        "->Tuples ensure data integrity in Python by being immutable, meaning once data is stored in a tuple, it cannot be changed. This makes them a safe and reliable choice for storing constant or critical data that should not be modified by mistake."
      ],
      "metadata": {
        "id": "zyxh_ydsy1F7"
      }
    },
    {
      "cell_type": "markdown",
      "source": [
        "8.What is a hash table, and how does it relate to dictionaries in Python.\n",
        "\n",
        "->A hash table is a data structure that stores key-value pairs and allows for very fast data access, typically in constant time, O(1), on average. It's used to efficiently find, insert, and delete data using a hash function."
      ],
      "metadata": {
        "id": "kLll0StRzZqm"
      }
    },
    {
      "cell_type": "markdown",
      "source": [
        "9.Can lists contain different data types in Python.\n",
        "\n",
        "->In Python, a list is a built-in, ordered, and mutable collection that can store an arbitrary number of elements. One of the key characteristics of Python lists is their ability to hold elements of heterogeneous data types. This means that a single list can contain elements of various types, such as integers, floats, strings, booleans, complex numbers, other lists, dictionaries, or even user-defined objects."
      ],
      "metadata": {
        "id": "WgY8X3BBgSG_"
      }
    },
    {
      "cell_type": "markdown",
      "source": [
        "10.Explain why strings are immutable in Python.\n",
        "\n",
        "->Strings are immutable in Python to:\n",
        "\n",
        "Enable memory optimization (string interning)\n",
        "\n",
        "Ensure safe hashing (dictionary/set keys)\n",
        "\n",
        "Improve thread safety"
      ],
      "metadata": {
        "id": "EFdmoCTZkXqq"
      }
    },
    {
      "cell_type": "markdown",
      "source": [
        "11.What advantages do dictionaries offer over lists for certain tasks.\n",
        "\n",
        "->When to Prefer Dictionaries:\n",
        "When you need fast access to data via identifiers.\n",
        "\n",
        "When your data is naturally paired (like name-score, username-password).\n",
        "\n",
        "When you need a mapping relationship between two sets of values."
      ],
      "metadata": {
        "id": "D9xq8k1NkqnY"
      }
    },
    {
      "cell_type": "markdown",
      "source": [
        "12.Describe a scenario where using a tuple would be preferable over a list.\n",
        "\n",
        "->A tuple is preferable over a list when you want to store a fixed collection of items that should not change.\n",
        "\n",
        "Use a tuple instead of a list when:\n",
        "The data is constant and should not be modified.\n",
        "\n",
        "You want to make your data safe from accidental changes.\n",
        "\n",
        "You need to use the collection as a key in a dictionary or store it in a set (because tuples are hashable, lists are not)."
      ],
      "metadata": {
        "id": "5Kwj79gGlFeb"
      }
    },
    {
      "cell_type": "markdown",
      "source": [
        "13.How do sets handle duplicate values in Python.\n",
        "\n",
        "->A set is an unordered collection of unique elements. It is implemented using a hash table, which does not allow duplicate keys. So, when you try to add a duplicate item, the set recognizes that the value already exists and does not add it again."
      ],
      "metadata": {
        "id": "z3Ysdtk0lrBQ"
      }
    },
    {
      "cell_type": "markdown",
      "source": [
        "14.How does the “in” keyword work differently for lists and dictionaries.\n",
        "\n",
        "-> For Lists:\n",
        "The in keyword checks if a value exists in the list.\n",
        "\n",
        "It performs a linear search (checks each item one by one).\n",
        "\n",
        "Time complexity: O(n) in the worst case.\n",
        "\n",
        " For Dictionaries:\n",
        "The in keyword checks if a key exists in the dictionary, not the value.\n",
        "\n",
        "It looks for the key using a hash lookup.\n",
        "\n",
        "Time complexity: O(1) on average.\n",
        "\n"
      ],
      "metadata": {
        "id": "_wHUi4hAl_x8"
      }
    },
    {
      "cell_type": "markdown",
      "source": [
        "15.Can you modify the elements of a tuple? Explain why or why not.\n",
        "\n",
        "->A tuple is immutable, which means once it is created, its contents cannot be changed. This includes:\n",
        "\n",
        "You can’t change an individual element.\n",
        "\n",
        "You can’t add or remove elements."
      ],
      "metadata": {
        "id": "pbAmpSfLmezc"
      }
    },
    {
      "cell_type": "markdown",
      "source": [
        "16.What is a nested dictionary, and give an example of its use case.\n",
        "\n",
        "->A dictionary in Python is a collection of key-value pairs, where the key is unique and the value can be any data type. In a nested dictionary, one or more of the values is itself a dictionary.\n",
        "\n",
        "This is useful when you need to represent complex relationships or structured data in a way that maintains clear groupings and hierarchies."
      ],
      "metadata": {
        "id": "jiZz9YZ1muJO"
      }
    },
    {
      "cell_type": "code",
      "source": [
        "company = {\n",
        "    \"employee_1\": {\n",
        "        \"name\": \"Alice\",\n",
        "        \"age\": 30,\n",
        "        \"position\": \"Engineer\"\n",
        "    },\n",
        "    \"employee_2\": {\n",
        "        \"name\": \"Bob\",\n",
        "        \"age\": 25,\n",
        "        \"position\": \"Designer\"\n",
        "    },\n",
        "    \"employee_3\": {\n",
        "        \"name\": \"Charlie\",\n",
        "        \"age\": 35,\n",
        "        \"position\": \"Manager\"\n",
        "    }\n",
        "}\n"
      ],
      "metadata": {
        "id": "a_gSeP6eomCR"
      },
      "execution_count": null,
      "outputs": []
    },
    {
      "cell_type": "markdown",
      "source": [
        "17.Describe the time complexity of accessing elements in a dictionary.\n",
        "\n",
        "->xplanation of Time Complexity:\n",
        "Hashing Mechanism:\n",
        "\n",
        "A Python dictionary is implemented using a hash table, which allows for fast lookups.\n",
        "\n",
        "When you access a value using a key, Python computes a hash value for the key, which is used to quickly locate the corresponding value in the dictionary.\n",
        "\n",
        "Constant Time Lookup (O(1)):\n",
        "\n",
        "On average, the process of calculating the hash and retrieving the value happens in constant time, O(1).\n",
        "\n",
        "This means the time it takes to access a dictionary element does not depend on the size of the dictionary."
      ],
      "metadata": {
        "id": "iSIv8yKbopVL"
      }
    },
    {
      "cell_type": "markdown",
      "source": [
        "18.In what situations are lists preferred over dictionaries.\n",
        "\n",
        "->In Python, lists are generally preferred over dictionaries in situations where the data is ordered and the primary access pattern involves indexing or iterating over a sequence of elements."
      ],
      "metadata": {
        "id": "2MWo_GWGo3h1"
      }
    },
    {
      "cell_type": "markdown",
      "source": [
        "19.Why are dictionaries considered unordered, and how does that affect data retrieval.\n",
        "\n",
        "->In Python, dictionaries are considered unordered because the order of items in a dictionary is not guaranteed.dictionaries are still considered unordered from a conceptual perspective, because they are implemented using a hash table."
      ],
      "metadata": {
        "id": "_NYawt4tpDRp"
      }
    },
    {
      "cell_type": "markdown",
      "source": [
        "20.Explain the difference between a list and a dictionary in terms of data retrieval.\n",
        "\n",
        "->Lists are great for maintaining an ordered collection where you access elements by their position (index).\n",
        "\n",
        "Dictionaries are ideal for key-value mapping, where you access values using a unique key."
      ],
      "metadata": {
        "id": "iwtzFsVUq9fQ"
      }
    },
    {
      "cell_type": "markdown",
      "source": [
        "Practical Questions"
      ],
      "metadata": {
        "id": "FrdNkgvtrQjx"
      }
    },
    {
      "cell_type": "markdown",
      "source": [
        "1.Write a code to create a string with your name and print it"
      ],
      "metadata": {
        "id": "z_fjgqKyrRVI"
      }
    },
    {
      "cell_type": "code",
      "source": [
        "Name = \"Ankush Amrit Sahu\"\n",
        "print(Name)"
      ],
      "metadata": {
        "colab": {
          "base_uri": "https://localhost:8080/"
        },
        "id": "YtBY6sujrVdb",
        "outputId": "fc01c050-fdd7-4c9c-fcfd-423a81f2fd40"
      },
      "execution_count": null,
      "outputs": [
        {
          "output_type": "stream",
          "name": "stdout",
          "text": [
            "Ankush Amrit Sahu\n"
          ]
        }
      ]
    },
    {
      "cell_type": "markdown",
      "source": [
        "2.Write a code to find the length of the string \"Hello World\"."
      ],
      "metadata": {
        "id": "aDu4eLr0JlR_"
      }
    },
    {
      "cell_type": "code",
      "source": [
        "text = \"Hello World\"\n",
        "length = len(text)\n",
        "print(\"The length of the string is:\", length)"
      ],
      "metadata": {
        "colab": {
          "base_uri": "https://localhost:8080/"
        },
        "id": "-RsTvow9JxIf",
        "outputId": "d955caa8-b694-4fc0-aa88-3e3430c1fe39"
      },
      "execution_count": null,
      "outputs": [
        {
          "output_type": "stream",
          "name": "stdout",
          "text": [
            "The length of the string is: 11\n"
          ]
        }
      ]
    },
    {
      "cell_type": "markdown",
      "source": [
        "3.Write a code to slice the first 3 characters from the string \"Python Programming\""
      ],
      "metadata": {
        "id": "XN5jrIZHKU7C"
      }
    },
    {
      "cell_type": "code",
      "source": [
        "text = \"python programming\"\n",
        "sliced = text[:3]\n",
        "print(\"The first 3 characters are:\", sliced)"
      ],
      "metadata": {
        "colab": {
          "base_uri": "https://localhost:8080/"
        },
        "id": "e-ZophTtKcRI",
        "outputId": "a695fda4-6f88-4343-ed94-2859ea03a840"
      },
      "execution_count": null,
      "outputs": [
        {
          "output_type": "stream",
          "name": "stdout",
          "text": [
            "The first 3 characters are: pyt\n"
          ]
        }
      ]
    },
    {
      "cell_type": "markdown",
      "source": [
        "4.Write a code to convert the string \"hello\" to uppercase."
      ],
      "metadata": {
        "id": "bFIzgdJ8K758"
      }
    },
    {
      "cell_type": "code",
      "source": [
        "text = \"hello\"\n",
        "uppercase_text = text.upper()\n",
        "print(\"Uppercase version:\", uppercase_text)"
      ],
      "metadata": {
        "colab": {
          "base_uri": "https://localhost:8080/"
        },
        "id": "LqdipsPKMF1f",
        "outputId": "d9b27eb9-c11f-4027-dc3a-26f6683355f3"
      },
      "execution_count": null,
      "outputs": [
        {
          "output_type": "stream",
          "name": "stdout",
          "text": [
            "Uppercase version: HELLO\n"
          ]
        }
      ]
    },
    {
      "cell_type": "markdown",
      "source": [
        "5.Write a code to replace the word \"apple\" with \"orange\" in the string \"I like apple\"."
      ],
      "metadata": {
        "id": "8BQzNzlMMOMp"
      }
    },
    {
      "cell_type": "code",
      "source": [
        "text = \"I like apple\"\n",
        "updated_text = text.replace(\"apple\", \"orange\")\n",
        "print(\"Updated string:\", updated_text)"
      ],
      "metadata": {
        "colab": {
          "base_uri": "https://localhost:8080/"
        },
        "id": "FyDnMbbYMTy8",
        "outputId": "06925d85-492c-4e2b-baf0-bf08ca359333"
      },
      "execution_count": null,
      "outputs": [
        {
          "output_type": "stream",
          "name": "stdout",
          "text": [
            "Updated string: I like orange\n"
          ]
        }
      ]
    },
    {
      "cell_type": "markdown",
      "source": [
        "6.Write a code to create a list with numbers 1 to 5 and print it."
      ],
      "metadata": {
        "id": "jTkc6ChvMc6f"
      }
    },
    {
      "cell_type": "code",
      "source": [
        "numbers = [1, 2, 3, 4, 5]\n",
        "print(\"The list is:\", numbers)"
      ],
      "metadata": {
        "colab": {
          "base_uri": "https://localhost:8080/"
        },
        "id": "UTh7AcqqMlaD",
        "outputId": "e3824285-f89c-4512-9cbe-c22478aaac91"
      },
      "execution_count": null,
      "outputs": [
        {
          "output_type": "stream",
          "name": "stdout",
          "text": [
            "The list is: [1, 2, 3, 4, 5]\n"
          ]
        }
      ]
    },
    {
      "cell_type": "markdown",
      "source": [
        "7.Write a code to append the number 10 to the list [1, 2, 3, 4]."
      ],
      "metadata": {
        "id": "D_Zj3a6QNNlv"
      }
    },
    {
      "cell_type": "code",
      "source": [
        "numbers = [1, 2, 3, 4]\n",
        "numbers.append(10)\n",
        "print(\"Updated list:\", numbers)"
      ],
      "metadata": {
        "colab": {
          "base_uri": "https://localhost:8080/"
        },
        "id": "ZJSmjrpoNUIC",
        "outputId": "2aad34c4-0d98-4163-dba2-9bb49f653195"
      },
      "execution_count": null,
      "outputs": [
        {
          "output_type": "stream",
          "name": "stdout",
          "text": [
            "Updated list: [1, 2, 3, 4, 10]\n"
          ]
        }
      ]
    },
    {
      "cell_type": "markdown",
      "source": [
        "8.Write a code to remove the number 3 from the list [1, 2, 3, 4, 5]."
      ],
      "metadata": {
        "id": "5Pq6n7NHNZ8q"
      }
    },
    {
      "cell_type": "code",
      "source": [
        "numbers = [1, 2, 3, 4, 5]\n",
        "numbers.remove(3)\n",
        "print(\"Updated list:\", numbers)"
      ],
      "metadata": {
        "colab": {
          "base_uri": "https://localhost:8080/"
        },
        "id": "eioLXkSSNihj",
        "outputId": "eeb26e45-dd4d-495e-8644-b21ad2e3ec64"
      },
      "execution_count": null,
      "outputs": [
        {
          "output_type": "stream",
          "name": "stdout",
          "text": [
            "Updated list: [1, 2, 4, 5]\n"
          ]
        }
      ]
    },
    {
      "cell_type": "markdown",
      "source": [
        "9.Write a code to access the second element in the list ['a', 'b', 'c', 'd']."
      ],
      "metadata": {
        "id": "H181Yu6dPGi1"
      }
    },
    {
      "cell_type": "code",
      "source": [
        "letters = ['a', 'b', 'c', 'd']\n",
        "second_element = letters[1]\n",
        "print(\"The second element is:\", second_element)"
      ],
      "metadata": {
        "colab": {
          "base_uri": "https://localhost:8080/"
        },
        "id": "FkqWFMBwPLh_",
        "outputId": "aa49dc1d-c9ad-4a9c-eb10-14f4acd67097"
      },
      "execution_count": null,
      "outputs": [
        {
          "output_type": "stream",
          "name": "stdout",
          "text": [
            "The second element is: b\n"
          ]
        }
      ]
    },
    {
      "cell_type": "markdown",
      "source": [
        "10.Write a code to reverse the list [10, 20, 30, 40, 50]."
      ],
      "metadata": {
        "id": "oprd477ZPaAu"
      }
    },
    {
      "cell_type": "code",
      "source": [
        "numbers = [10, 20, 30, 40, 50]\n",
        "numbers.reverse()\n",
        "print(\"Reversed list:\", numbers)"
      ],
      "metadata": {
        "colab": {
          "base_uri": "https://localhost:8080/"
        },
        "id": "wdyjNP1XPfpZ",
        "outputId": "e4e52b66-a476-4142-a183-763abc54a2a9"
      },
      "execution_count": null,
      "outputs": [
        {
          "output_type": "stream",
          "name": "stdout",
          "text": [
            "Reversed list: [50, 40, 30, 20, 10]\n"
          ]
        }
      ]
    },
    {
      "cell_type": "markdown",
      "source": [
        "11.Write a code to create a tuple with the elements 100, 200, 300 and print it."
      ],
      "metadata": {
        "id": "dgUhk8OyPn2e"
      }
    },
    {
      "cell_type": "code",
      "source": [
        "my_tuple = (100, 200, 300)\n",
        "print(\"The tuple is:\", my_tuple)"
      ],
      "metadata": {
        "colab": {
          "base_uri": "https://localhost:8080/"
        },
        "id": "sWZbYA6pPxmW",
        "outputId": "aaa866f9-4dff-4433-cac2-6f1d11cc132a"
      },
      "execution_count": null,
      "outputs": [
        {
          "output_type": "stream",
          "name": "stdout",
          "text": [
            "The tuple is: (100, 200, 300)\n"
          ]
        }
      ]
    },
    {
      "cell_type": "markdown",
      "source": [
        "12. Write a code to access the second-to-last element of the tuple ('red', 'green', 'blue', 'yellow')."
      ],
      "metadata": {
        "id": "orKrYo5lP1KF"
      }
    },
    {
      "cell_type": "code",
      "source": [
        "my_tuple = ('red', 'green', 'blue', 'yellow')\n",
        "second_to_last = my_tuple[-2]\n",
        "print(\"The second-to-last element is:\", second_to_last)"
      ],
      "metadata": {
        "colab": {
          "base_uri": "https://localhost:8080/"
        },
        "id": "qI7t3Hs9QHu8",
        "outputId": "34608a35-0d83-4972-e49f-1d7c237f0086"
      },
      "execution_count": null,
      "outputs": [
        {
          "output_type": "stream",
          "name": "stdout",
          "text": [
            "The second-to-last element is: blue\n"
          ]
        }
      ]
    },
    {
      "cell_type": "markdown",
      "source": [
        "13.Write a code to find the minimum number in the tuple (10, 20, 5, 15)."
      ],
      "metadata": {
        "id": "0sImCNvFQMeK"
      }
    },
    {
      "cell_type": "code",
      "source": [
        "my_tuple = (10, 20, 5, 15)\n",
        "min_number = min(my_tuple)\n",
        "print(\"The minimum number is:\", min_number)"
      ],
      "metadata": {
        "colab": {
          "base_uri": "https://localhost:8080/"
        },
        "id": "M2Jh7v0SQSVj",
        "outputId": "34422671-a6a7-4325-b42f-1c843508552c"
      },
      "execution_count": null,
      "outputs": [
        {
          "output_type": "stream",
          "name": "stdout",
          "text": [
            "The minimum number is: 5\n"
          ]
        }
      ]
    },
    {
      "cell_type": "markdown",
      "source": [
        "14. Write a code to find the index of the element \"cat\" in the tuple ('dog', 'cat', 'rabbit')."
      ],
      "metadata": {
        "id": "XrmHL-2lQXPE"
      }
    },
    {
      "cell_type": "code",
      "source": [
        "my_tuple = ('dog', 'cat', 'rabbit')\n",
        "index_of_cat = my_tuple.index('cat')\n",
        "print(\"The index of 'cat' is:\", index_of_cat)"
      ],
      "metadata": {
        "colab": {
          "base_uri": "https://localhost:8080/"
        },
        "id": "KbN838bCQjuO",
        "outputId": "60e21a37-2b61-4276-fd74-bb5eae65b3cf"
      },
      "execution_count": null,
      "outputs": [
        {
          "output_type": "stream",
          "name": "stdout",
          "text": [
            "The index of 'cat' is: 1\n"
          ]
        }
      ]
    },
    {
      "cell_type": "markdown",
      "source": [
        "15. Write a code to create a tuple containing three different fruits and check if \"kiwi\" is in it."
      ],
      "metadata": {
        "id": "ShvXTwyhQmet"
      }
    },
    {
      "cell_type": "code",
      "source": [
        "fruits = ('apple', 'banana', 'cherry')\n",
        "is_kiwi_in_tuple = 'kiwi' in fruits\n",
        "print(\"Is 'kiwi' in the tuple?\", is_kiwi_in_tuple)"
      ],
      "metadata": {
        "colab": {
          "base_uri": "https://localhost:8080/"
        },
        "id": "tQnKpGF5QqjF",
        "outputId": "65bf428c-f0cc-496d-b024-973a6d688a47"
      },
      "execution_count": null,
      "outputs": [
        {
          "output_type": "stream",
          "name": "stdout",
          "text": [
            "Is 'kiwi' in the tuple? False\n"
          ]
        }
      ]
    },
    {
      "cell_type": "markdown",
      "source": [
        "16. Write a code to create a set with the elements 'a', 'b', 'c' and print it."
      ],
      "metadata": {
        "id": "Fp_aF_jDQzjE"
      }
    },
    {
      "cell_type": "code",
      "source": [
        "my_set = {'a', 'b', 'c'}\n",
        "print(\"The set is:\", my_set)"
      ],
      "metadata": {
        "colab": {
          "base_uri": "https://localhost:8080/"
        },
        "id": "LLwW7KAeQ20V",
        "outputId": "094eeb70-6d38-4fac-f10a-4f22c8f58fe6"
      },
      "execution_count": null,
      "outputs": [
        {
          "output_type": "stream",
          "name": "stdout",
          "text": [
            "The set is: {'a', 'c', 'b'}\n"
          ]
        }
      ]
    },
    {
      "cell_type": "markdown",
      "source": [
        "17. Write a code to clear all elements from the set {1, 2, 3, 4, 5}."
      ],
      "metadata": {
        "id": "IwOjFKj6Q9Z3"
      }
    },
    {
      "cell_type": "code",
      "source": [
        "my_set = {1, 2, 3, 4, 5}\n",
        "my_set.clear()\n",
        "print(\"The set after clearing all elements:\", my_set)"
      ],
      "metadata": {
        "colab": {
          "base_uri": "https://localhost:8080/"
        },
        "id": "tGeJfay6RCpY",
        "outputId": "64d21ab2-13a5-4108-8520-303be271e2a1"
      },
      "execution_count": null,
      "outputs": [
        {
          "output_type": "stream",
          "name": "stdout",
          "text": [
            "The set after clearing all elements: set()\n"
          ]
        }
      ]
    },
    {
      "cell_type": "markdown",
      "source": [
        "18. Write a code to remove the element 4 from the set {1, 2, 3, 4}."
      ],
      "metadata": {
        "id": "LxKRf7mbRJjj"
      }
    },
    {
      "cell_type": "code",
      "source": [
        "my_set = {1, 2, 3, 4}\n",
        "my_set.remove(4)\n",
        "print(\"The set after removing 4:\", my_set)"
      ],
      "metadata": {
        "colab": {
          "base_uri": "https://localhost:8080/"
        },
        "id": "a9lMf4tIRNDK",
        "outputId": "be302e1c-d577-445a-9928-951c90c3bd37"
      },
      "execution_count": null,
      "outputs": [
        {
          "output_type": "stream",
          "name": "stdout",
          "text": [
            "The set after removing 4: {1, 2, 3}\n"
          ]
        }
      ]
    },
    {
      "cell_type": "markdown",
      "source": [
        "19. Write a code to find the union of two sets {1, 2, 3} and {3, 4, 5}."
      ],
      "metadata": {
        "id": "pF9VrPBdRSgs"
      }
    },
    {
      "cell_type": "code",
      "source": [
        "set1 = {1, 2, 3}\n",
        "set2 = {3, 4, 5}\n",
        "union_set = set1.union(set2)\n",
        "print(\"The union of the sets is:\", union_set)"
      ],
      "metadata": {
        "colab": {
          "base_uri": "https://localhost:8080/"
        },
        "id": "av908jnURXHw",
        "outputId": "bbedd2d9-6fb9-430f-f63a-7ba5f75178bd"
      },
      "execution_count": null,
      "outputs": [
        {
          "output_type": "stream",
          "name": "stdout",
          "text": [
            "The union of the sets is: {1, 2, 3, 4, 5}\n"
          ]
        }
      ]
    },
    {
      "cell_type": "markdown",
      "source": [
        "20. Write a code to find the intersection of two sets {1, 2, 3} and {2, 3, 4}."
      ],
      "metadata": {
        "id": "L2GhaucURdFZ"
      }
    },
    {
      "cell_type": "code",
      "source": [
        "set1 = {1, 2, 3}\n",
        "set2 = {2, 3, 4}\n",
        "intersection_set = set1.intersection(set2)\n",
        "print(\"The intersection of the sets is:\", intersection_set)"
      ],
      "metadata": {
        "colab": {
          "base_uri": "https://localhost:8080/"
        },
        "id": "Cu0fbHQNRgrj",
        "outputId": "dbf62f7f-cf11-4fab-8e2c-9d00afd02629"
      },
      "execution_count": null,
      "outputs": [
        {
          "output_type": "stream",
          "name": "stdout",
          "text": [
            "The intersection of the sets is: {2, 3}\n"
          ]
        }
      ]
    },
    {
      "cell_type": "markdown",
      "source": [
        "21. Write a code to create a dictionary with the keys \"name\", \"age\", and \"city\", and print it."
      ],
      "metadata": {
        "id": "HdtrZQu6SBN6"
      }
    },
    {
      "cell_type": "code",
      "source": [
        "my_dict = {\n",
        "    \"name\": \"Ankush\",\n",
        "    \"age\": 22,\n",
        "    \"city\": \"Bhubaneswar\"\n",
        "}\n",
        "\n",
        "print(\"The dictionary is:\", my_dict)\n"
      ],
      "metadata": {
        "colab": {
          "base_uri": "https://localhost:8080/"
        },
        "id": "soQUhEzNSEzF",
        "outputId": "ac85dd76-049c-4b64-a40e-e59efa5a936d"
      },
      "execution_count": null,
      "outputs": [
        {
          "output_type": "stream",
          "name": "stdout",
          "text": [
            "The dictionary is: {'name': 'Ankush', 'age': 22, 'city': 'Bhubaneswar'}\n"
          ]
        }
      ]
    },
    {
      "cell_type": "markdown",
      "source": [
        "22. Write a code to add a new key-value pair \"country\": \"USA\" to the dictionary {'name': 'John', 'age': 25}."
      ],
      "metadata": {
        "id": "f6W3KTaheAsY"
      }
    },
    {
      "cell_type": "code",
      "source": [
        "my_dict = {'name': 'John', 'age': 25}\n",
        "my_dict['country'] = 'USA'\n",
        "print(\"Updated dictionary:\", my_dict)"
      ],
      "metadata": {
        "colab": {
          "base_uri": "https://localhost:8080/"
        },
        "id": "bnJlH-LfePM3",
        "outputId": "da86c1ce-f610-466f-dcd2-b597461bd5df"
      },
      "execution_count": null,
      "outputs": [
        {
          "output_type": "stream",
          "name": "stdout",
          "text": [
            "Updated dictionary: {'name': 'John', 'age': 25, 'country': 'USA'}\n"
          ]
        }
      ]
    },
    {
      "cell_type": "markdown",
      "source": [
        "23. Write a code to access the value associated with the key \"name\" in the dictionary {'name': 'Alice', 'age': 30}."
      ],
      "metadata": {
        "id": "tcUtbeVreRRq"
      }
    },
    {
      "cell_type": "code",
      "source": [
        "mydict = {'name': 'Alice', 'age': 30}\n",
        "name_value = mydict['name']\n",
        "print(\"The value associated with 'name' is:\", name_value)"
      ],
      "metadata": {
        "colab": {
          "base_uri": "https://localhost:8080/"
        },
        "id": "bzbI-RHCeWog",
        "outputId": "330121cd-209e-4185-e38b-6f79ddd737c7"
      },
      "execution_count": null,
      "outputs": [
        {
          "output_type": "stream",
          "name": "stdout",
          "text": [
            "The value associated with 'name' is: Alice\n"
          ]
        }
      ]
    },
    {
      "cell_type": "markdown",
      "source": [
        "24. Write a code to remove the key \"age\" from the dictionary {'name': 'Bob', 'age': 22, 'city': 'New York'}."
      ],
      "metadata": {
        "id": "PMpcM0ttejL5"
      }
    },
    {
      "cell_type": "code",
      "source": [
        "mydict = {'name': 'Bob', 'age': 22, 'city': 'New York'}\n",
        "del mydict['age']\n",
        "print(\"Updated dictionary:\", mydict)"
      ],
      "metadata": {
        "colab": {
          "base_uri": "https://localhost:8080/"
        },
        "id": "XWOpQvUGelzb",
        "outputId": "74c3ba08-3b85-44c9-9c25-248cce06c287"
      },
      "execution_count": null,
      "outputs": [
        {
          "output_type": "stream",
          "name": "stdout",
          "text": [
            "Updated dictionary: {'name': 'Bob', 'city': 'New York'}\n"
          ]
        }
      ]
    },
    {
      "cell_type": "markdown",
      "source": [
        "25. Write a code to check if the key \"city\" exists in the dictionary {'name': 'Alice', 'city': 'Paris'}."
      ],
      "metadata": {
        "id": "NBW8cFEKex9W"
      }
    },
    {
      "cell_type": "code",
      "source": [
        "my_dict = {'name': 'Alice', 'city': 'Paris'}\n",
        "\n",
        "# Check if the key \"city\" exists\n",
        "if 'city' in my_dict:\n",
        "    print(\"The key 'city' exists in the dictionary.\")\n",
        "else:\n",
        "    print(\"The key 'city' does not exist in the dictionary.\")\n"
      ],
      "metadata": {
        "colab": {
          "base_uri": "https://localhost:8080/"
        },
        "id": "CRmFHKyOe6sC",
        "outputId": "1af08e24-e227-4526-fe57-5a81f2e7725b"
      },
      "execution_count": null,
      "outputs": [
        {
          "output_type": "stream",
          "name": "stdout",
          "text": [
            "The key 'city' exists in the dictionary.\n"
          ]
        }
      ]
    },
    {
      "cell_type": "markdown",
      "source": [
        "26. Write a code to create a list, a tuple, and a dictionary, and print them all."
      ],
      "metadata": {
        "id": "4ZDxPfdae8aD"
      }
    },
    {
      "cell_type": "code",
      "source": [
        "# Creating a list\n",
        "my_list = [1, 2, 3, 4, 5]\n",
        "\n",
        "# Creating a tuple\n",
        "my_tuple = ('apple', 'banana', 'cherry')\n",
        "\n",
        "# Creating a dictionary\n",
        "my_dict = {'name': 'John', 'age': 30, 'city': 'New York'}\n",
        "\n",
        "# Printing the list, tuple, and dictionary\n",
        "print(\"The list is:\", my_list)\n",
        "print(\"The tuple is:\", my_tuple)\n",
        "print(\"The dictionary is:\", my_dict)\n"
      ],
      "metadata": {
        "colab": {
          "base_uri": "https://localhost:8080/"
        },
        "id": "JOw4BdK-fAYC",
        "outputId": "26dfcfed-3ba1-4fb2-9027-fc205cd46310"
      },
      "execution_count": null,
      "outputs": [
        {
          "output_type": "stream",
          "name": "stdout",
          "text": [
            "The list is: [1, 2, 3, 4, 5]\n",
            "The tuple is: ('apple', 'banana', 'cherry')\n",
            "The dictionary is: {'name': 'John', 'age': 30, 'city': 'New York'}\n"
          ]
        }
      ]
    },
    {
      "cell_type": "markdown",
      "source": [
        "27. Write a code to create a list of 5 random numbers between 1 and 100, sort it in ascending order, and print the\n",
        "result.(replaced)"
      ],
      "metadata": {
        "id": "pDb88EQMfHJy"
      }
    },
    {
      "cell_type": "code",
      "source": [
        "import random\n",
        "\n",
        "# Create a list of 5 random numbers between 1 and 100\n",
        "random_numbers = [random.randint(1, 100) for _ in range(5)]\n",
        "\n",
        "# Sort the list in ascending order\n",
        "random_numbers.sort()\n",
        "\n",
        "# Print the sorted list\n",
        "print(\"Sorted list of random numbers:\", random_numbers)\n"
      ],
      "metadata": {
        "colab": {
          "base_uri": "https://localhost:8080/"
        },
        "id": "2cSkCrXlfMn0",
        "outputId": "0f802ba5-6ce5-47b6-9e6a-47df795c01f5"
      },
      "execution_count": null,
      "outputs": [
        {
          "output_type": "stream",
          "name": "stdout",
          "text": [
            "Sorted list of random numbers: [34, 76, 80, 82, 89]\n"
          ]
        }
      ]
    },
    {
      "cell_type": "markdown",
      "source": [
        "28. Write a code to create a list with strings and print the element at the third index."
      ],
      "metadata": {
        "id": "t0hXh2PRfiEt"
      }
    },
    {
      "cell_type": "code",
      "source": [
        "# Create a list of strings\n",
        "my_list = [\"apple\", \"banana\", \"cherry\", \"date\", \"elderberry\"]\n",
        "\n",
        "# Access the element at the third index (4th element, since indexing starts at 0)\n",
        "third_index_element = my_list[3]\n",
        "\n",
        "# Print the element at the third index\n",
        "print(\"The element at the third index is:\", third_index_element)"
      ],
      "metadata": {
        "colab": {
          "base_uri": "https://localhost:8080/"
        },
        "id": "G4NPpVVtfwA4",
        "outputId": "0f1ced62-38b3-4ccb-9ccc-c499b85450a4"
      },
      "execution_count": null,
      "outputs": [
        {
          "output_type": "stream",
          "name": "stdout",
          "text": [
            "The element at the third index is: date\n"
          ]
        }
      ]
    },
    {
      "cell_type": "markdown",
      "source": [
        "29. Write a code to combine two dictionaries into one and print the result."
      ],
      "metadata": {
        "id": "kDnNr6vffykg"
      }
    },
    {
      "cell_type": "code",
      "source": [
        "# Define two dictionaries\n",
        "dict1 = {'name': 'Alice', 'age': 25}\n",
        "dict2 = {'city': 'Paris', 'country': 'France'}\n",
        "\n",
        "# Combine the two dictionaries using the update() method\n",
        "dict1.update(dict2)\n",
        "\n",
        "# Print the combined dictionary\n",
        "print(\"Combined dictionary:\", dict1)"
      ],
      "metadata": {
        "colab": {
          "base_uri": "https://localhost:8080/"
        },
        "id": "OlsTO7fWf4Bl",
        "outputId": "47619e3f-2aa8-4c79-9a34-95705c515c9d"
      },
      "execution_count": null,
      "outputs": [
        {
          "output_type": "stream",
          "name": "stdout",
          "text": [
            "Combined dictionary: {'name': 'Alice', 'age': 25, 'city': 'Paris', 'country': 'France'}\n"
          ]
        }
      ]
    },
    {
      "cell_type": "markdown",
      "source": [
        "30. Write a code to convert a list of strings into a set."
      ],
      "metadata": {
        "id": "DwjWPwwnf56R"
      }
    },
    {
      "cell_type": "code",
      "source": [
        "# Create a list of strings\n",
        "my_list = [\"apple\", \"banana\", \"cherry\", \"apple\", \"banana\"]\n",
        "\n",
        "# Convert the list into a set to remove duplicates\n",
        "my_set = set(my_list)\n",
        "\n",
        "# Print the resulting set\n",
        "print(\"The set is:\", my_set)"
      ],
      "metadata": {
        "colab": {
          "base_uri": "https://localhost:8080/"
        },
        "id": "K3bTsAg7f8mZ",
        "outputId": "78ecb5e3-e1aa-43c0-d0bf-b057d85d1b2f"
      },
      "execution_count": null,
      "outputs": [
        {
          "output_type": "stream",
          "name": "stdout",
          "text": [
            "The set is: {'banana', 'apple', 'cherry'}\n"
          ]
        }
      ]
    }
  ]
}